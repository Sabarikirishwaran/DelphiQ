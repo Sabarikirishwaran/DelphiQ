{
 "cells": [
  {
   "cell_type": "markdown",
   "id": "f5819e8a-2042-4479-9ade-ad5cbc8c3bde",
   "metadata": {},
   "source": [
    "# Quantum Imaginary Time Evolution of Phenanthrene-Quinone Fragment (Carbonyl Formation)"
   ]
  },
  {
   "cell_type": "markdown",
   "id": "59cdb98c-afdd-4a99-8fd5-25d5cabf8667",
   "metadata": {},
   "source": [
    "# Introduction\n",
    "\n",
    "**Phenanthrenequinone** (9,10-phenanthrenedione) is an oxidized fragment of phenanthrene featuring two carbonyl groups at the 9 and 10 positions. This molecule serves as a model for studying **carbonyl formation in aromatic systems**, such as oxidative aging of hydrocarbons.\n",
    "\n",
    "In this notebook, we use the **Tangelo** quantum chemistry framework to simulate the ground state of the phenanthrenequinone fragment. We will employ **Quantum Imaginary Time Evolution (QITE)** – an algorithm that iteratively evolves a trial state in imaginary time to project out the ground state – and map the fermionic molecular Hamiltonian to qubits using the **Jordan–Wigner (JW)** transformation.\n",
    "\n",
    "To make the simulation tractable, we use a minimal **STO-3G** basis set and apply **active space reduction techniques** (frozen core and selected orbitals), as recommended for phenanthrene. By freezing core orbitals (e.g., carbon and oxygen 1s) and focusing on the frontier molecular orbitals involved in the carbonyl functionality, we drastically reduce the number of qubits required while preserving the key chemistry of the reactive fragment.\n",
    "\n",
    "The **JW mapping** encodes the fermionic Hamiltonian into a qubit operator representation, which QITE uses to find the ground-state energy. We will compare the **QITE-computed ground-state energy** to the baseline **Hartree–Fock** energy, highlighting:\n",
    "\n",
    "- the **correlation energy** captured by QITE, and  \n",
    "- its chemical significance (e.g., insight into **reactivity** and **multi-reference character**).\n"
   ]
  },
  {
   "cell_type": "code",
   "execution_count": 17,
   "id": "5aaec8b3-9958-40d7-b66a-da476514fed7",
   "metadata": {},
   "outputs": [
    {
     "name": "stdout",
     "output_type": "stream",
     "text": [
      "Requirement already satisfied: pyscf in /opt/conda/lib/python3.11/site-packages (2.9.0)\n",
      "Requirement already satisfied: numpy!=1.16,!=1.17,>=1.13 in /opt/conda/lib/python3.11/site-packages (from pyscf) (2.2.5)\n",
      "Requirement already satisfied: scipy>=1.6.0 in /opt/conda/lib/python3.11/site-packages (from pyscf) (1.16.0)\n",
      "Requirement already satisfied: h5py>=2.7 in /opt/conda/lib/python3.11/site-packages (from pyscf) (3.14.0)\n",
      "Requirement already satisfied: setuptools in /opt/conda/lib/python3.11/site-packages (from pyscf) (69.5.1)\n"
     ]
    }
   ],
   "source": [
    "try:\n",
    "    import tangelo\n",
    "except ImportError:\n",
    "    !pip install git+https://github.com/sandbox-quantum/Tangelo.git@develop --quiet\n",
    "    !pip install pyscf --quiet\n",
    "\n",
    "!pip install pyscf\n",
    "from pyscf import __config__\n",
    "__config__.B3LYP_WITH_VWN5 = True\n",
    "\n",
    "# Pretty printer for more readable outputs\n",
    "import pprint\n",
    "pp = pprint.PrettyPrinter(width=160, compact=False, indent=1)\n",
    "from pprint import pprint\n",
    "\n",
    "# Installation of tangelo if not already installed.\n",
    "try:\n",
    "    import tangelo\n",
    "except ModuleNotFoundError:\n",
    "    !pip install git+https://github.com/sandbox-quantum/Tangelo.git@develop --quiet"
   ]
  },
  {
   "cell_type": "code",
   "execution_count": 15,
   "id": "817b6905-d2f6-4d2f-8ee0-6145bbacc476",
   "metadata": {},
   "outputs": [
    {
     "name": "stdout",
     "output_type": "stream",
     "text": [
      "Requirement already satisfied: pyscf in /opt/conda/lib/python3.11/site-packages (2.9.0)\n",
      "Requirement already satisfied: numpy!=1.16,!=1.17,>=1.13 in /opt/conda/lib/python3.11/site-packages (from pyscf) (2.2.5)\n",
      "Requirement already satisfied: scipy>=1.6.0 in /opt/conda/lib/python3.11/site-packages (from pyscf) (1.16.0)\n",
      "Requirement already satisfied: h5py>=2.7 in /opt/conda/lib/python3.11/site-packages (from pyscf) (3.14.0)\n",
      "Requirement already satisfied: setuptools in /opt/conda/lib/python3.11/site-packages (from pyscf) (69.5.1)\n"
     ]
    }
   ],
   "source": []
  },
  {
   "cell_type": "markdown",
   "id": "f565a91d-e856-4bda-b31e-d91ee28f0070",
   "metadata": {},
   "source": [
    "## Molecular Geometry and Basis Set\n",
    "\n",
    "We define the **phenanthrene-9,10-quinone** fragment using its full Cartesian geometry (24 atoms: C₁₄H₈O₂). The XYZ coordinates below (in angstroms) correspond to an optimized 3D structure of *9,10-phenanthrenedione*. \n",
    "\n",
    "We use the minimal **STO-3G** basis set for initial exploration, which provides one basis function per atomic orbital. This choice keeps the problem size manageable, at the cost of some accuracy."
   ]
  },
  {
   "cell_type": "code",
   "execution_count": 8,
   "id": "400212f8-1d56-4775-a897-04f44e1e6e6b",
   "metadata": {},
   "outputs": [],
   "source": [
    "# Define the molecular geometry (phenanthrene-9,10-dione fragment) in XYZ format\n",
    "phenanthrenequinone_xyz = \"\"\"24\n",
    "Phenanthrene-9,10-dione (phenanthrenequinone) geometry in Cartesian coordinates (angstroms)\n",
    "O   -1.9481    2.8035   -0.5304\n",
    "C   -1.1071    1.8848   -0.3547\n",
    "C    0.3136    2.1983   -0.3990\n",
    "O    0.7324    3.3780   -0.6108\n",
    "C    1.2762    1.1045   -0.1902\n",
    "C    2.6344    1.3575   -0.2239\n",
    "C    3.5449    0.3474   -0.0309\n",
    "C    3.0762   -0.9115    0.1949\n",
    "C    1.7173   -1.1595    0.2277\n",
    "C    0.7755   -0.1731    0.0388\n",
    "C   -0.6481   -0.4582    0.0778\n",
    "C   -1.1144   -1.7414    0.3081\n",
    "C   -2.4884   -1.9829    0.3396\n",
    "C   -3.4152   -0.9787    0.1475\n",
    "C   -2.9552    0.2852   -0.0793\n",
    "C   -1.5891    0.5314   -0.1117\n",
    "H    2.9676    2.3856   -0.4088\n",
    "H    4.5992    0.6008   -0.0675\n",
    "H    3.7651   -1.7243    0.3498\n",
    "H    1.3436   -2.1705    0.4091\n",
    "H   -0.4895   -2.5802    0.4672\n",
    "H   -2.8910   -2.9734    0.5170\n",
    "H   -4.4825   -1.1461    0.1683\n",
    "H   -3.6173    1.1230   -0.2385\n",
    "\"\"\""
   ]
  },
  {
   "cell_type": "markdown",
   "id": "6d226979-4155-4d55-aa23-e5e8ec5ab829",
   "metadata": {},
   "source": [
    "We will create a Tangelo `SecondQuantizedMolecule` with this geometry, specifying a neutral charge (`q=0`) and singlet spin (`spin=0`, meaning all 108 electrons are paired). Tangelo uses **PySCF** under the hood to perform a **Hartree–Fock (HF)** calculation and obtain the molecular orbitals and integrals."
   ]
  },
  {
   "cell_type": "markdown",
   "id": "2f04570a-1c38-4014-bd91-1cfda2074a45",
   "metadata": {},
   "source": [
    "## Active Space Selection and Frozen Core Approximation\n",
    "\n",
    "**Phenanthrenequinone** is a fairly large system in a full **STO-3G** basis (88 MOs, which would translate to 176 qubits if taken fully). \n",
    "\n",
    "To reduce complexity, we apply the **frozen core approximation**, freezing the low-energy core orbitals (the 1s orbitals on each carbon and oxygen). These core orbitals (16 in total for C₁₄O₂) are doubly occupied and chemically inert, so we exclude them from the active quantum simulation.\n",
    "\n",
    "In addition, we restrict the **active space** to a selection of frontier orbitals around the **highest occupied** and **lowest unoccupied molecular orbitals (HOMO and LUMO)**. This focuses the simulation on the π-system and carbonyl orbitals relevant to reactivity.\n",
    "\n",
    "We will keep the **HOMO, LUMO**, and a few neighboring orbitals (e.g., HOMO–3 through LUMO+3) in the active space, and freeze all other valence orbitals. This yields a manageable active space of around **8 MOs (16 spin-orbitals)** for the QITE simulation, dramatically reducing the qubit count while retaining key correlation effects.\n",
    "\n",
    "Using **Tangelo’s utilities**, we can determine which orbitals to freeze. First, we initialize the full molecule and compute the **mean-field solution**. Then we use helper functions to get a freeze list that excludes all orbitals except the chosen HOMO/LUMO window."
   ]
  },
  {
   "cell_type": "code",
   "execution_count": 20,
   "id": "b4329c2d-9082-46a0-aee1-9d203f32a502",
   "metadata": {},
   "outputs": [
    {
     "ename": "ModuleNotFoundError",
     "evalue": "No module named 'tangelo'",
     "output_type": "error",
     "traceback": [
      "\u001b[0;31m---------------------------------------------------------------------------\u001b[0m",
      "\u001b[0;31mModuleNotFoundError\u001b[0m                       Traceback (most recent call last)",
      "Cell \u001b[0;32mIn[20], line 1\u001b[0m\n\u001b[0;32m----> 1\u001b[0m \u001b[38;5;28;01mfrom\u001b[39;00m\u001b[38;5;250m \u001b[39m\u001b[38;5;21;01mtangelo\u001b[39;00m\u001b[38;5;250m \u001b[39m\u001b[38;5;28;01mimport\u001b[39;00m SecondQuantizedMolecule\n\u001b[1;32m      2\u001b[0m \u001b[38;5;28;01mfrom\u001b[39;00m\u001b[38;5;250m \u001b[39m\u001b[38;5;21;01mtangelo\u001b[39;00m\u001b[38;5;21;01m.\u001b[39;00m\u001b[38;5;21;01mtoolboxes\u001b[39;00m\u001b[38;5;21;01m.\u001b[39;00m\u001b[38;5;21;01mmolecular_computation\u001b[39;00m\u001b[38;5;21;01m.\u001b[39;00m\u001b[38;5;21;01mfrozen_orbitals\u001b[39;00m\u001b[38;5;250m \u001b[39m\u001b[38;5;28;01mimport\u001b[39;00m get_frozen_core, get_orbitals_excluding_homo_lumo\n\u001b[1;32m      4\u001b[0m \u001b[38;5;66;03m# Initialize the full molecule (perform HF calculation)\u001b[39;00m\n",
      "\u001b[0;31mModuleNotFoundError\u001b[0m: No module named 'tangelo'"
     ]
    }
   ],
   "source": [
    "from tangelo import SecondQuantizedMolecule\n",
    "from tangelo.toolboxes.molecular_computation.frozen_orbitals import get_frozen_core, get_orbitals_excluding_homo_lumo\n",
    "\n",
    "# Initialize the full molecule (perform HF calculation)\n",
    "full_mol = SecondQuantizedMolecule(phenanthrenequinone_xyz, q=0, spin=0, basis=\"STO-3G\")\n",
    "print(f\"Total MOs (full): {full_mol.n_mos}, Electrons: {full_mol.n_electrons}\")\n",
    "\n",
    "# Determine frozen core orbitals and active space around HOMO/LUMO\n",
    "n_core = get_frozen_core(full_mol)  # number of core orbitals to freeze (int)\n",
    "freeze_list = get_orbitals_excluding_homo_lumo(full_mol, homo_minus_n=3, lumo_plus_n=3)\n",
    "print(f\"Number of core orbitals = {n_core}\")\n",
    "print(f\"Frozen orbital indices (excl. HOMO-3..LUMO+3 active space): {freeze_list}\")"
   ]
  },
  {
   "cell_type": "markdown",
   "id": "865687ff-373c-4d17-8eab-65d55e12d75e",
   "metadata": {},
   "source": [
    "In the output, `full_mol.n_mos` is the total number of molecular orbitals (88 for full STO-3G here), and `full_mol.n_electrons` confirms the electron count (108 for C₁₄H₈O₂).\n",
    "\n",
    "The `get_frozen_core` function returns the count of lowest-energy occupied MOs to freeze (which should equal 16 in this case, corresponding to the carbon and oxygen 1s orbitals).\n",
    "\n",
    "The `get_orbitals_excluding_homo_lumo` function returns a list of orbital indices that lie outside the specified HOMO±3 window – i.e., these will be frozen.\n",
    "\n",
    "Next, we construct a new `SecondQuantizedMolecule` with the specified frozen orbitals:"
   ]
  },
  {
   "cell_type": "code",
   "execution_count": 21,
   "id": "042d99d8-d3c1-4a86-b453-3e71372774c1",
   "metadata": {},
   "outputs": [
    {
     "ename": "NameError",
     "evalue": "name 'SecondQuantizedMolecule' is not defined",
     "output_type": "error",
     "traceback": [
      "\u001b[0;31m---------------------------------------------------------------------------\u001b[0m",
      "\u001b[0;31mNameError\u001b[0m                                 Traceback (most recent call last)",
      "Cell \u001b[0;32mIn[21], line 2\u001b[0m\n\u001b[1;32m      1\u001b[0m \u001b[38;5;66;03m# Build the active-space molecule with core and certain valence orbitals frozen\u001b[39;00m\n\u001b[0;32m----> 2\u001b[0m active_mol \u001b[38;5;241m=\u001b[39m \u001b[43mSecondQuantizedMolecule\u001b[49m(phenanthrenequinone_xyz, q\u001b[38;5;241m=\u001b[39m\u001b[38;5;241m0\u001b[39m, spin\u001b[38;5;241m=\u001b[39m\u001b[38;5;241m0\u001b[39m, basis\u001b[38;5;241m=\u001b[39m\u001b[38;5;124m\"\u001b[39m\u001b[38;5;124mSTO-3G\u001b[39m\u001b[38;5;124m\"\u001b[39m, frozen_orbitals\u001b[38;5;241m=\u001b[39mfreeze_list)\n\u001b[1;32m      3\u001b[0m \u001b[38;5;28mprint\u001b[39m(\u001b[38;5;124mf\u001b[39m\u001b[38;5;124m\"\u001b[39m\u001b[38;5;124mActive space MOs: \u001b[39m\u001b[38;5;132;01m{\u001b[39;00mactive_mol\u001b[38;5;241m.\u001b[39mn_mos\u001b[38;5;132;01m}\u001b[39;00m\u001b[38;5;124m, Active electrons: \u001b[39m\u001b[38;5;132;01m{\u001b[39;00mactive_mol\u001b[38;5;241m.\u001b[39mn_electrons\u001b[38;5;132;01m}\u001b[39;00m\u001b[38;5;124m\"\u001b[39m)\n",
      "\u001b[0;31mNameError\u001b[0m: name 'SecondQuantizedMolecule' is not defined"
     ]
    }
   ],
   "source": [
    "# Build the active-space molecule with core and certain valence orbitals frozen\n",
    "active_mol = SecondQuantizedMolecule(phenanthrenequinone_xyz, q=0, spin=0, basis=\"STO-3G\", frozen_orbitals=freeze_list)\n",
    "print(f\"Active space MOs: {active_mol.n_mos}, Active electrons: {active_mol.n_electrons}\")"
   ]
  },
  {
   "cell_type": "markdown",
   "id": "df47eada-ca69-4921-b8e3-17c65f7a1608",
   "metadata": {},
   "source": [
    "Now, `active_mol` represents the **reduced Hamiltonian** in the active space (core removed, only HOMO–3 to LUMO+3 unfrozen). \n",
    "\n",
    "The printed output shows the number of **active MOs** and **active electrons**. We expect considerably fewer MOs than 88 — specifically, if 16 core orbitals and a number of additional valence orbitals are frozen, the active count might be on the order of **8 MOs** (for HOMO–3 to LUMO+3, which is 4 occupied + 4 virtual = 8 orbitals).\n",
    "\n",
    "The number of **active electrons** would be the count of electrons in those active orbitals. For example, 8 orbitals with maybe 16 electrons if 4 of them were occupied in the Hartree–Fock solution."
   ]
  },
  {
   "cell_type": "markdown",
   "id": "e1ec6ce1-2ff0-42c8-9cf8-0326123d3651",
   "metadata": {},
   "source": [
    "## Hamiltonian Construction and Qubit Mapping (Jordan–Wigner)\n",
    "\n",
    "With the active-space `SecondQuantizedMolecule`, we can obtain the **molecular electronic Hamiltonian** in second-quantized form (fermionic operators) and then map it to a **qubit Hamiltonian** via the **Jordan–Wigner (JW) transformation**. \n",
    "\n",
    "Tangelo internally interfaces with **OpenFermion** to represent operators. We can access the fermionic Hamiltonian as an OpenFermion `FermionOperator` and apply the JW mapping to get a `QubitOperator` (Pauli-sum representation).\n",
    "\n",
    "The output will indicate:\n",
    "- The number of **Pauli terms** in the qubit Hamiltonian\n",
    "- The number of **qubits** (`active_mol.n_qubits`), which should equal twice the number of active MOs (since each molecular orbital contributes two spin-orbitals/qubits in JW mapping)\n",
    "\n",
    "For example, an **8-orbital active space** corresponds to **16 qubits**.\n",
    "\n",
    "The **Jordan–Wigner mapping** encodes each fermionic creation/annihilation operator into a string of **Pauli-$Z$ and Pauli-$X/Y$** operators on qubits, preserving the correct fermionic commutation relationships. This comes at the cost of introducing long strings of $Z$ operators to account for fermion parity.\n",
    "\n",
    "*Optional:* We could examine a snippet of `qubit_hamiltonian` to see its structure (e.g., a sum of Pauli strings like `Z0 Z1 ... - 0.1234`), but it’s generally quite lengthy. For brevity, we proceed to the simulation."
   ]
  },
  {
   "cell_type": "code",
   "execution_count": 22,
   "id": "2973552a-2b97-496a-8396-210b61f811c6",
   "metadata": {},
   "outputs": [
    {
     "ename": "ModuleNotFoundError",
     "evalue": "No module named 'tangelo'",
     "output_type": "error",
     "traceback": [
      "\u001b[0;31m---------------------------------------------------------------------------\u001b[0m",
      "\u001b[0;31mModuleNotFoundError\u001b[0m                       Traceback (most recent call last)",
      "Cell \u001b[0;32mIn[22], line 1\u001b[0m\n\u001b[0;32m----> 1\u001b[0m \u001b[38;5;28;01mfrom\u001b[39;00m\u001b[38;5;250m \u001b[39m\u001b[38;5;21;01mtangelo\u001b[39;00m\u001b[38;5;21;01m.\u001b[39;00m\u001b[38;5;21;01mtoolboxes\u001b[39;00m\u001b[38;5;21;01m.\u001b[39;00m\u001b[38;5;21;01moperators\u001b[39;00m\u001b[38;5;250m \u001b[39m\u001b[38;5;28;01mimport\u001b[39;00m QubitOperator\n\u001b[1;32m      3\u001b[0m \u001b[38;5;66;03m# Retrieve the second-quantized (fermionic) Hamiltonian\u001b[39;00m\n\u001b[1;32m      4\u001b[0m fermion_hamiltonian \u001b[38;5;241m=\u001b[39m active_mol\u001b[38;5;241m.\u001b[39mfermionic_hamiltonian\n",
      "\u001b[0;31mModuleNotFoundError\u001b[0m: No module named 'tangelo'"
     ]
    }
   ],
   "source": [
    "from tangelo.toolboxes.operators import QubitOperator\n",
    "\n",
    "# Retrieve the second-quantized (fermionic) Hamiltonian\n",
    "fermion_hamiltonian = active_mol.fermionic_hamiltonian\n",
    "\n",
    "# Apply the Jordan-Wigner transform to get qubit Hamiltonian\n",
    "# (Tangelo uses OpenFermion's mapping under the hood)\n",
    "qubit_hamiltonian = fermion_hamiltonian.jordan_wigner()  \n",
    "print(f\"Qubit Hamiltonian has {len(qubit_hamiltonian.terms)} terms acting on {active_mol.n_qubits} qubits.\")"
   ]
  },
  {
   "cell_type": "code",
   "execution_count": null,
   "id": "bf92ee05-575d-46c1-b01c-431e503e5043",
   "metadata": {},
   "outputs": [],
   "source": []
  }
 ],
 "metadata": {
  "kernelspec": {
   "display_name": "Python 3 [PySCF]",
   "language": "python",
   "name": "python3_pyscf_arct4l"
  },
  "language_info": {
   "codemirror_mode": {
    "name": "ipython",
    "version": 3
   },
   "file_extension": ".py",
   "mimetype": "text/x-python",
   "name": "python",
   "nbconvert_exporter": "python",
   "pygments_lexer": "ipython3",
   "version": "3.9.22"
  }
 },
 "nbformat": 4,
 "nbformat_minor": 5
}
